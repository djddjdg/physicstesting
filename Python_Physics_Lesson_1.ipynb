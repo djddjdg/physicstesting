{
  "nbformat": 4,
  "nbformat_minor": 0,
  "metadata": {
    "colab": {
      "name": "Python Physics Lesson 1.ipynb",
      "provenance": [],
      "collapsed_sections": []
    },
    "kernelspec": {
      "name": "python3",
      "display_name": "Python 3"
    }
  },
  "cells": [
    {
      "cell_type": "markdown",
      "metadata": {
        "id": "yPYjF9d8gB1b",
        "colab_type": "text"
      },
      "source": [
        "#First Notebook\n",
        "In your Google Drive, rightclick on the icon for this notebook and make a copy.\n",
        "\n",
        "Rename it with your own name in the title, you can then edit your own copy.\n",
        "\n",
        "Share it back with your teacher."
      ]
    },
    {
      "cell_type": "markdown",
      "metadata": {
        "id": "XZvQUqogdrtt",
        "colab_type": "text"
      },
      "source": [
        "##Why learn Python for Physics (or Chemistry, or Economics or...)?\n",
        "![Job Advert](https://drive.google.com/uc?id=1vqpFm6WiEJofIvud926bdys_clsKlCl3)\n"
      ]
    },
    {
      "cell_type": "code",
      "metadata": {
        "id": "-hxqFw-heUgQ",
        "colab_type": "code",
        "outputId": "11d716b2-6927-4f18-ecad-6ea07867c30e",
        "colab": {
          "base_uri": "https://localhost:8080/",
          "height": 72
        }
      },
      "source": [
        "#Hash marks can be used for comments, the computer ignores everything after the hash mark\n",
        "\n",
        "# Click the black arrow in the corner of this cell to run it, it will seem that nothing has happened but the notebook is now ready to go\n",
        "\n",
        "#this cell just sets up the functions for the notebook\n",
        "import pandas as pd\n",
        "import pandas.util.testing as tm\n",
        "import numpy as np\n",
        "%matplotlib inline\n",
        "import matplotlib.pyplot as plt\n",
        "import seaborn as sns\n",
        "sns.set(style=\"darkgrid\")\n",
        "import math "
      ],
      "execution_count": 0,
      "outputs": [
        {
          "output_type": "stream",
          "text": [
            "/usr/local/lib/python3.6/dist-packages/ipykernel_launcher.py:2: FutureWarning: pandas.util.testing is deprecated. Use the functions in the public API at pandas.testing instead.\n",
            "  \n"
          ],
          "name": "stderr"
        }
      ]
    },
    {
      "cell_type": "markdown",
      "metadata": {
        "id": "4rsqOrN6hIti",
        "colab_type": "text"
      },
      "source": [
        "##Example 1\n",
        "We can use this style of notebook to do lots of useful physics, we can solve problems, plot graphs and display equations\n",
        "$$x=x_0sin(\\omega t+\\phi)$$\n",
        "For example, the cell below works finds the constructive interference wave formed between two waves."
      ]
    },
    {
      "cell_type": "code",
      "metadata": {
        "id": "ot-JdwFsh4rb",
        "colab_type": "code",
        "colab": {}
      },
      "source": [
        "A1=4  ##data for graph 1 - you can change these values\n",
        "omega1=1.1\n",
        "\n",
        "\n",
        "A2=2   ## data for graph 2\n",
        "omega2=4\n",
        "\n",
        "\n",
        "plt.xlabel('x')           ##these 3 lines add some labels\n",
        "plt.ylabel('A sin omega x')\n",
        "plt.title('Graphs of A sin omega x')\n",
        "x=np.arange(0,4*np.pi,0.1)  ## same as above\n",
        "y=A1*(np.sin((x*omega1)))  ## plot A sin (omega t + phi)\n",
        "z=A2*(np.sin((x*omega2)))\n",
        "w=y+z\n",
        "plt.plot(x,y,x,z)\n",
        "plt.show()\n",
        "plt.title('Interference Wave created by blue and orange wave')\n",
        "plt.ylabel('amplitude')\n",
        "plt.xlabel('x')\n",
        "plt.plot(x,w, color='black')\n",
        "plt.show()"
      ],
      "execution_count": 0,
      "outputs": []
    },
    {
      "cell_type": "markdown",
      "metadata": {
        "id": "OzgaY9LDiKlq",
        "colab_type": "text"
      },
      "source": [
        "##Example 1\n",
        "Here is another nice example, in unit 12 we saw that the Energy levels for the Hydrogen atom are given by:\n",
        " $$E=\\frac{-13.6}{n^2} eV$$\n",
        "\n",
        "where (n=1,2,3....)\n",
        "\n",
        "Let's use the cell below to calculate these for some values of n\n"
      ]
    },
    {
      "cell_type": "code",
      "metadata": {
        "id": "0kDmT1gCiKHc",
        "colab_type": "code",
        "colab": {}
      },
      "source": [
        "for n in [1,2,3,4,5,6,7]:\n",
        "  E=-13.6/n**2 #.  n**2 means n squared\n",
        "  E=round(E,2) #  round E to stop the dp going crazy!\n",
        "  print ('When n is',n,'E has the value',E,' eV')\n",
        "\n"
      ],
      "execution_count": 0,
      "outputs": []
    },
    {
      "cell_type": "markdown",
      "metadata": {
        "id": "B8HjggHBk6g1",
        "colab_type": "text"
      },
      "source": [
        "##....can we represent this graphically?"
      ]
    },
    {
      "cell_type": "code",
      "metadata": {
        "id": "LXC-39ZllBjA",
        "colab_type": "code",
        "colab": {}
      },
      "source": [
        "for n in [1,2,3,4,5,6,7]:\n",
        "  E=-13.6/n**2 #.  start with the same two lines\n",
        "  plt.axhline(y=E, color='b', linestyle='-') ##plot a horizontal line at height E for the current value of n\n",
        "  plt.ylabel('Energy (eV)')\n",
        "  \n",
        "plt.show()\n",
        "  "
      ],
      "execution_count": 0,
      "outputs": []
    },
    {
      "cell_type": "markdown",
      "metadata": {
        "id": "749HgcfunzMw",
        "colab_type": "text"
      },
      "source": [
        "Here's a slightly longer version that removes the meaningless numbers on the x-axis"
      ]
    },
    {
      "cell_type": "code",
      "metadata": {
        "id": "8qBJ2AjYnCPA",
        "colab_type": "code",
        "colab": {}
      },
      "source": [
        "for n in [1,2,3,4,5,6,7]:\n",
        "  E=-13.6/n**2 #.  start with the same two lines\n",
        "  plt.axhline(y=E, color='r', linestyle='-')\n",
        "  plt.ylabel('Energy (eV)')\n",
        "  plt.tick_params(\n",
        "    axis='x',          # changes apply to the x-axis\n",
        "    which='both',      # both major and minor ticks are affected\n",
        "    bottom=False,      # ticks along the bottom edge are off\n",
        "    top=False,         # ticks along the top edge are off\n",
        "    labelbottom=False) # labels along the bottom edge are off\n",
        "  \n",
        "plt.show()"
      ],
      "execution_count": 0,
      "outputs": []
    },
    {
      "cell_type": "markdown",
      "metadata": {
        "id": "Px_Xk63OqX7L",
        "colab_type": "text"
      },
      "source": [
        "##Variables"
      ]
    },
    {
      "cell_type": "code",
      "metadata": {
        "id": "hhFvz7SQoDPp",
        "colab_type": "code",
        "colab": {}
      },
      "source": [
        "#let's get a variable by asking you for one, we tell the computer this is a string (some words, in this case)\n",
        "nAme=str(input('What is your name? '))\n",
        "print('Hello', nAme, 'nice to meet you')"
      ],
      "execution_count": 0,
      "outputs": []
    },
    {
      "cell_type": "code",
      "metadata": {
        "id": "UOAzutkNoarb",
        "colab_type": "code",
        "colab": {}
      },
      "source": [
        "#let's set numbers two different ways, first by setting a number (yEars) then by asking for one (aGe)\n",
        "yEars=5\n",
        "aGe=int(input('How old are you? ')) ##tell the computer we're looking for a whole number (integer)\n",
        "print(nAme, 'in', yEars, 'years time, you will be', aGe+yEars, 'years old!')"
      ],
      "execution_count": 0,
      "outputs": []
    },
    {
      "cell_type": "code",
      "metadata": {
        "id": "N20HBBtcp3dF",
        "colab_type": "code",
        "colab": {}
      },
      "source": [
        "dEcimal=float(input('Give me a number between 1 and 2 '))\n",
        "print ('Double your number is', dEcimal*2)"
      ],
      "execution_count": 0,
      "outputs": []
    },
    {
      "cell_type": "code",
      "metadata": {
        "id": "R_W-2QMKwlKs",
        "colab_type": "code",
        "colab": {}
      },
      "source": [
        "nUmber=int(input('Give me a (whole) number from 1 to 100 '))\n",
        "print('Your number x 100=',nUmber*100)\n",
        "print('Your number squared is', nUmber**2)\n",
        "print('Your number divided by 3 is ', nUmber/3)\n",
        "print('Two less than your number is ', nUmber-2)\n",
        "print('sin of your number is ', math.sin(nUmber), '(taking your number to be in radians)')"
      ],
      "execution_count": 0,
      "outputs": []
    },
    {
      "cell_type": "markdown",
      "metadata": {
        "id": "aTOm34p7n_9D",
        "colab_type": "text"
      },
      "source": [
        "##Exercise One\n",
        "Create a new code box below, ask the user for their name and their age (use two inputs)\n",
        "As a response, greet them by name, then tell them how many years (roughly) before they are 60 years old. Also, give them a compliment :)\n",
        "\n",
        "\n",
        "---\n",
        "\n",
        "\n",
        "\n",
        "---\n",
        "\n"
      ]
    },
    {
      "cell_type": "markdown",
      "metadata": {
        "id": "a9QQ6t-_q_Xt",
        "colab_type": "text"
      },
      "source": [
        "##Exercise Two\n",
        "Ask the user for a height of a building, (in m), \n",
        "use the equation:\n",
        "\n",
        "$$S=ut+\\frac{1}{2}at^2$$ to calculate for them the time needed for a ball to fall from the top of the building to the ground.\n",
        "Print out the result in a single sentence for them.\n",
        "\n",
        "\n",
        "---\n",
        "\n",
        "\n",
        "\n",
        "---\n",
        "\n"
      ]
    },
    {
      "cell_type": "markdown",
      "metadata": {
        "id": "YTgTezpwreUa",
        "colab_type": "text"
      },
      "source": [
        "##Exercise Three \n",
        "Ask the user for the velocity and angle from the horizontal for a ball fired into the air. \n",
        "\n",
        "*(air resistance is negligible)*\n",
        "\n",
        "Tell the user the horizontal and vertical velocities of the ball.\n",
        "\n",
        "Tell them the total 'airtime' of the ball.\n",
        "\n",
        "Calculate for them the horizontal range.\n",
        "\n",
        "*hint - use math.cos(x) to find the cos of x, x will be in radians*\n",
        "\n",
        "---\n",
        "\n",
        "\n",
        "\n",
        "---\n",
        "\n",
        "\n",
        "\n"
      ]
    },
    {
      "cell_type": "markdown",
      "metadata": {
        "id": "5f5jD_Eor5Mm",
        "colab_type": "text"
      },
      "source": [
        "##Exercise 4\n",
        "Ask the user to Google the radius and mass of a planet or star.\n",
        "\n",
        "Ask for these to be input.\n",
        "\n",
        "Use: $$v_{esc}=\\sqrt{\\frac{2GM}{r}}$$\n",
        "to tell the user the escape speed from their celestial body.\n",
        "\n",
        "\n",
        "---\n",
        "\n",
        "\n",
        "\n",
        "---\n",
        "\n"
      ]
    },
    {
      "cell_type": "markdown",
      "metadata": {
        "id": "sFJ3keJQwVDj",
        "colab_type": "text"
      },
      "source": [
        "#Exercise 5\n",
        "The following equation links the altitude above the Earth's surface, h, and orbital period T of a satellite (T in seconds)\n",
        "\n",
        "\n",
        "\n",
        "$$h=(\\frac{GMT^2}{4\\pi^2})^{\\frac{1}{3}}-R$$\n",
        "\n",
        "where:\n",
        "\n",
        " $G=6.67 \\times 10^{-11} m^3kg^{-1}s^{-2}$\n",
        "\n",
        " $M=5.97 \\times 10^{24} kg$ (mass of the Earth)\n",
        "\n",
        " $R=6371 km$ (radius of the Earth)\n",
        "\n",
        "\n",
        "i) Ask the user to enter a desired value of T and output for them the correct height, h, in m\n",
        "\n",
        "ii)Use your program to calculate the altitude of a satellite that orbits the Earth once a day (geosynchronous orbit)\n",
        "\n",
        "iii) Use your program to calculate the altitude of a satellite that orbits the Earth once every 90 minutes\n",
        "\n",
        "*(check your answers to ii and iii by research)*\n",
        "\n",
        "*question adapted from Computational Physics, Newman*\n",
        "\n",
        "\n",
        "\n",
        "---\n",
        "\n",
        "\n",
        "---\n",
        "\n",
        "\n",
        "\n",
        "\n"
      ]
    },
    {
      "cell_type": "code",
      "metadata": {
        "id": "CdkAeDwVx4en",
        "colab_type": "code",
        "colab": {}
      },
      "source": [
        ""
      ],
      "execution_count": 0,
      "outputs": []
    }
  ]
}